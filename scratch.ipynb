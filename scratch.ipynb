{
 "cells": [
  {
   "cell_type": "markdown",
   "source": [
    "# This is my scratch notebook"
   ],
   "metadata": {
    "collapsed": false
   }
  },
  {
   "cell_type": "markdown",
   "source": [
    "### Test of binary tree (btree)"
   ],
   "metadata": {
    "collapsed": false
   }
  },
  {
   "cell_type": "code",
   "execution_count": 1,
   "outputs": [],
   "source": [
    "#from btree.import Deck, ListType\n",
    "# from btree import Node, SearchOrder, SearchDirection\n",
    "import btree.node as nd\n"
   ],
   "metadata": {
    "collapsed": false
   }
  },
  {
   "cell_type": "code",
   "execution_count": 3,
   "outputs": [],
   "source": [
    "y = nd.Node()\n",
    "y.populate()\n",
    "y.topdown()"
   ],
   "metadata": {
    "collapsed": false
   }
  },
  {
   "cell_type": "code",
   "execution_count": 4,
   "outputs": [
    {
     "name": "stdout",
     "output_type": "stream",
     "text": [
      "initialing a stack object\n",
      "label = r11\n",
      "label = r22\n",
      "label = r21\n",
      "label = r34\n",
      "label = r33\n",
      "label = r32\n",
      "label = r31\n"
     ]
    }
   ],
   "source": [
    "y.traverse(nd.SearchOrder.BreadthFirst, nd.SearchDirection.RightToLeft)"
   ],
   "metadata": {
    "collapsed": false
   }
  },
  {
   "cell_type": "code",
   "execution_count": 6,
   "outputs": [
    {
     "name": "stdout",
     "output_type": "stream",
     "text": [
      "Testing\n",
      "initialing a stack object\n"
     ]
    }
   ],
   "source": [
    "# import btree\n",
    "from btree.deck import Deck, ListType\n",
    "\n",
    "print(\"Testing\")\n",
    "\n",
    "stype = ListType.Stack\n",
    "deck = Deck(stype)\n",
    "\n",
    "values = [1, 2, 3, 4, 5, 6, 7, 8]\n",
    "result = []\n",
    "\n",
    "for i in values:\n",
    "    deck.push(i)\n"
   ],
   "metadata": {
    "collapsed": false
   }
  },
  {
   "cell_type": "code",
   "execution_count": 7,
   "outputs": [
    {
     "name": "stdout",
     "output_type": "stream",
     "text": [
      "Testing\n",
      "initialing a stack object\n"
     ]
    },
    {
     "data": {
      "text/plain": "[8, 7, 6, 5, 4, 3, 2, 1]"
     },
     "execution_count": 7,
     "metadata": {},
     "output_type": "execute_result"
    }
   ],
   "source": [
    "from btree.deck import Deck, ListType\n",
    "\n",
    "print(\"Testing\")\n",
    "\n",
    "\n",
    "\n",
    "stype = ListType.Stack\n",
    "deck = Deck(stype)\n",
    "\n",
    "values = [1, 2, 3, 4, 5, 6, 7, 8]\n",
    "result = []\n",
    "\n",
    "for i in values: deck.push(i)\n",
    "\n",
    "for item in deck:\n",
    "    result[len(result):] = [item]\n",
    "\n",
    "result"
   ],
   "metadata": {
    "collapsed": false
   }
  },
  {
   "cell_type": "code",
   "execution_count": 40,
   "outputs": [],
   "source": [
    "\n",
    "def test_some_primes():\n",
    "    assert 37 in {\n",
    "        num\n",
    "        for num in range(2, 50)\n",
    "        if not any(num % div == 0 for div in range(2, num))\n",
    "    }"
   ],
   "metadata": {
    "collapsed": false
   }
  },
  {
   "cell_type": "code",
   "execution_count": 41,
   "outputs": [
    {
     "ename": "AssertionError",
     "evalue": "",
     "output_type": "error",
     "traceback": [
      "\u001B[1;31m---------------------------------------------------------------------------\u001B[0m",
      "\u001B[1;31mAssertionError\u001B[0m                            Traceback (most recent call last)",
      "Cell \u001B[1;32mIn[41], line 1\u001B[0m\n\u001B[1;32m----> 1\u001B[0m \u001B[43mtest_some_primes\u001B[49m\u001B[43m(\u001B[49m\u001B[43m)\u001B[49m\n",
      "Cell \u001B[1;32mIn[40], line 2\u001B[0m, in \u001B[0;36mtest_some_primes\u001B[1;34m()\u001B[0m\n\u001B[0;32m      1\u001B[0m \u001B[38;5;28;01mdef\u001B[39;00m \u001B[38;5;21mtest_some_primes\u001B[39m():\n\u001B[1;32m----> 2\u001B[0m     \u001B[38;5;28;01massert\u001B[39;00m \u001B[38;5;241m12\u001B[39m \u001B[38;5;129;01min\u001B[39;00m {\n\u001B[0;32m      3\u001B[0m         num\n\u001B[0;32m      4\u001B[0m         \u001B[38;5;28;01mfor\u001B[39;00m num \u001B[38;5;129;01min\u001B[39;00m \u001B[38;5;28mrange\u001B[39m(\u001B[38;5;241m2\u001B[39m, \u001B[38;5;241m50\u001B[39m)\n\u001B[0;32m      5\u001B[0m         \u001B[38;5;28;01mif\u001B[39;00m \u001B[38;5;129;01mnot\u001B[39;00m \u001B[38;5;28many\u001B[39m(num \u001B[38;5;241m%\u001B[39m div \u001B[38;5;241m==\u001B[39m \u001B[38;5;241m0\u001B[39m \u001B[38;5;28;01mfor\u001B[39;00m div \u001B[38;5;129;01min\u001B[39;00m \u001B[38;5;28mrange\u001B[39m(\u001B[38;5;241m2\u001B[39m, num))\n\u001B[0;32m      6\u001B[0m     }\n",
      "\u001B[1;31mAssertionError\u001B[0m: "
     ]
    }
   ],
   "source": [
    "test_some_primes()"
   ],
   "metadata": {
    "collapsed": false
   }
  },
  {
   "cell_type": "code",
   "execution_count": null,
   "outputs": [],
   "source": [],
   "metadata": {
    "collapsed": false
   }
  }
 ],
 "metadata": {
  "kernelspec": {
   "display_name": "Python 3",
   "language": "python",
   "name": "python3"
  },
  "language_info": {
   "codemirror_mode": {
    "name": "ipython",
    "version": 2
   },
   "file_extension": ".py",
   "mimetype": "text/x-python",
   "name": "python",
   "nbconvert_exporter": "python",
   "pygments_lexer": "ipython2",
   "version": "2.7.6"
  }
 },
 "nbformat": 4,
 "nbformat_minor": 0
}
