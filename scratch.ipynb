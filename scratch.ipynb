{
 "cells": [
  {
   "cell_type": "markdown",
   "source": [
    "# This is my scratch notebook"
   ],
   "metadata": {
    "collapsed": false
   }
  },
  {
   "cell_type": "markdown",
   "source": [
    "### Test of binary tree (btree)"
   ],
   "metadata": {
    "collapsed": false
   }
  },
  {
   "cell_type": "code",
   "execution_count": 5,
   "outputs": [],
   "source": [
    "#from btree.import Stack, ListType\n",
    "# from btree import Node, SearchOrder, SearchDirection\n",
    "import btree\n"
   ],
   "metadata": {
    "collapsed": false
   }
  },
  {
   "cell_type": "code",
   "execution_count": 6,
   "outputs": [
    {
     "name": "stdout",
     "output_type": "stream",
     "text": [
      "label = r11\n",
      "label = r21\n",
      "label = r31\n",
      "label = r32\n",
      "label = r22\n",
      "label = r33\n",
      "label = r34\n"
     ]
    }
   ],
   "source": [
    "\n",
    "\n",
    "y = btree.Node()\n",
    "y.populate()\n",
    "y.topdown()"
   ],
   "metadata": {
    "collapsed": false
   }
  },
  {
   "cell_type": "code",
   "execution_count": 4,
   "outputs": [
    {
     "name": "stdout",
     "output_type": "stream",
     "text": [
      "initialing a stack object\n",
      "label = r11\n",
      "label = r22\n",
      "label = r21\n",
      "label = r34\n",
      "label = r33\n",
      "label = r32\n",
      "label = r31\n"
     ]
    }
   ],
   "source": [
    "y.traverse(btree.SearchOrder.BreadthFirst, btree.SearchDirection.RightToLeft)"
   ],
   "metadata": {
    "collapsed": false
   }
  },
  {
   "cell_type": "code",
   "execution_count": null,
   "outputs": [],
   "source": [],
   "metadata": {
    "collapsed": false
   }
  }
 ],
 "metadata": {
  "kernelspec": {
   "display_name": "Python 3",
   "language": "python",
   "name": "python3"
  },
  "language_info": {
   "codemirror_mode": {
    "name": "ipython",
    "version": 2
   },
   "file_extension": ".py",
   "mimetype": "text/x-python",
   "name": "python",
   "nbconvert_exporter": "python",
   "pygments_lexer": "ipython2",
   "version": "2.7.6"
  }
 },
 "nbformat": 4,
 "nbformat_minor": 0
}
